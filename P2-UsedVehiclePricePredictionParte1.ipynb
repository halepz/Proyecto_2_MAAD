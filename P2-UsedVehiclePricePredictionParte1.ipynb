{
 "cells": [
  {
   "cell_type": "markdown",
   "metadata": {},
   "source": [
    "<br><h1> <img src=\"https://serea2017.uniandes.edu.co/images/Logo.png\" height=\"120\" width=\"400\" align=\"Center\" /><br>\n",
    "\n",
    "# MIIIA Advanced Models: Project 2 - 29 Jun 2020\n",
    "\n",
    "                     Names                 User        Code\n",
    "           - Alexander Camargo García   a.camargo733   200911325\n",
    "           - Jaime Orjuela Viracachá    j.orjuelav     201924252\n",
    "           - Jairo Pedraza Corredor     ja.pedraza     201924260\n",
    "           - Elquin Huertas Ramírez     e.huertas      201920061"
   ]
  },
  {
   "cell_type": "markdown",
   "metadata": {},
   "source": [
    "# Project 2\n",
    "\n",
    "# Used Vehicle Price Prediction"
   ]
  },
  {
   "cell_type": "markdown",
   "metadata": {},
   "source": [
    "## Introduction\n",
    "\n",
    "- 1.2 Million listings scraped from TrueCar.com - Price, Mileage, Make, Model dataset from Kaggle: [data](https://www.kaggle.com/jpayne/852k-used-car-listings)\n",
    "- Each observation represents the price of an used car"
   ]
  },
  {
   "cell_type": "markdown",
   "metadata": {},
   "source": [
    "# Exercise P2.1 (50%)\n",
    "\n",
    "Develop a machine learning model that predicts the price of the of car using as an input ['Year', 'Mileage', 'State', 'Make', 'Model']\n",
    "\n",
    "#### Evaluation:\n",
    "- 25% - Performance of the models using a manually implemented K-Fold (K=10) cross-validation\n",
    "- 25% - Notebook explaining the process for selecting the best model. You must specify how the calibration of each of the parameters is done and how these change the performance of the model. It is expected that a clear comparison will be made of all implemented models.. Present the most relevant conslusions about the whole process. \n"
   ]
  },
  {
   "cell_type": "code",
   "execution_count": 4,
   "metadata": {},
   "outputs": [],
   "source": [
    "%matplotlib inline\n",
    "import pandas as pd\n",
    "import numpy as np\n",
    "import itertools\n",
    "import category_encoders as ce\n",
    "from sklearn.ensemble import RandomForestRegressor\n",
    "from sklearn.model_selection import cross_val_score\n",
    "from sklearn.model_selection import train_test_split\n",
    "import matplotlib.pyplot as plt\n",
    "import seaborn as sns\n",
    "from statistics import mean\n",
    "from random import randrange"
   ]
  },
  {
   "cell_type": "code",
   "execution_count": 5,
   "metadata": {},
   "outputs": [],
   "source": [
    "pd.options.display.float_format = '{:,.2f}'.format"
   ]
  },
  {
   "cell_type": "code",
   "execution_count": 6,
   "metadata": {},
   "outputs": [],
   "source": [
    "data = pd.read_csv('dataTrain_carListings.zip')"
   ]
  },
  {
   "cell_type": "code",
   "execution_count": 7,
   "metadata": {},
   "outputs": [
    {
     "data": {
      "text/html": [
       "<div>\n",
       "<style scoped>\n",
       "    .dataframe tbody tr th:only-of-type {\n",
       "        vertical-align: middle;\n",
       "    }\n",
       "\n",
       "    .dataframe tbody tr th {\n",
       "        vertical-align: top;\n",
       "    }\n",
       "\n",
       "    .dataframe thead th {\n",
       "        text-align: right;\n",
       "    }\n",
       "</style>\n",
       "<table border=\"1\" class=\"dataframe\">\n",
       "  <thead>\n",
       "    <tr style=\"text-align: right;\">\n",
       "      <th></th>\n",
       "      <th>Price</th>\n",
       "      <th>Year</th>\n",
       "      <th>Mileage</th>\n",
       "      <th>State</th>\n",
       "      <th>Make</th>\n",
       "      <th>Model</th>\n",
       "    </tr>\n",
       "  </thead>\n",
       "  <tbody>\n",
       "    <tr>\n",
       "      <th>0</th>\n",
       "      <td>21490</td>\n",
       "      <td>2014</td>\n",
       "      <td>31909</td>\n",
       "      <td>MD</td>\n",
       "      <td>Nissan</td>\n",
       "      <td>MuranoAWD</td>\n",
       "    </tr>\n",
       "    <tr>\n",
       "      <th>1</th>\n",
       "      <td>21250</td>\n",
       "      <td>2016</td>\n",
       "      <td>25741</td>\n",
       "      <td>KY</td>\n",
       "      <td>Chevrolet</td>\n",
       "      <td>CamaroCoupe</td>\n",
       "    </tr>\n",
       "    <tr>\n",
       "      <th>2</th>\n",
       "      <td>20925</td>\n",
       "      <td>2016</td>\n",
       "      <td>24633</td>\n",
       "      <td>SC</td>\n",
       "      <td>Hyundai</td>\n",
       "      <td>Santa</td>\n",
       "    </tr>\n",
       "    <tr>\n",
       "      <th>3</th>\n",
       "      <td>14500</td>\n",
       "      <td>2012</td>\n",
       "      <td>84026</td>\n",
       "      <td>OK</td>\n",
       "      <td>Jeep</td>\n",
       "      <td>Grand</td>\n",
       "    </tr>\n",
       "    <tr>\n",
       "      <th>4</th>\n",
       "      <td>32488</td>\n",
       "      <td>2013</td>\n",
       "      <td>22816</td>\n",
       "      <td>TN</td>\n",
       "      <td>Jeep</td>\n",
       "      <td>Wrangler</td>\n",
       "    </tr>\n",
       "  </tbody>\n",
       "</table>\n",
       "</div>"
      ],
      "text/plain": [
       "   Price  Year  Mileage State       Make        Model\n",
       "0  21490  2014    31909    MD     Nissan    MuranoAWD\n",
       "1  21250  2016    25741    KY  Chevrolet  CamaroCoupe\n",
       "2  20925  2016    24633    SC    Hyundai        Santa\n",
       "3  14500  2012    84026    OK       Jeep        Grand\n",
       "4  32488  2013    22816    TN       Jeep     Wrangler"
      ]
     },
     "execution_count": 7,
     "metadata": {},
     "output_type": "execute_result"
    }
   ],
   "source": [
    "data.head()"
   ]
  },
  {
   "cell_type": "code",
   "execution_count": 8,
   "metadata": {
    "scrolled": true
   },
   "outputs": [
    {
     "data": {
      "text/plain": [
       "(500000, 6)"
      ]
     },
     "execution_count": 8,
     "metadata": {},
     "output_type": "execute_result"
    }
   ],
   "source": [
    "data.shape"
   ]
  },
  {
   "cell_type": "markdown",
   "metadata": {},
   "source": [
    "#### Verificación de datos faltantes"
   ]
  },
  {
   "cell_type": "code",
   "execution_count": 9,
   "metadata": {
    "scrolled": true
   },
   "outputs": [
    {
     "data": {
      "text/plain": [
       "Price      0\n",
       "Year       0\n",
       "Mileage    0\n",
       "State      0\n",
       "Make       0\n",
       "Model      0\n",
       "dtype: int64"
      ]
     },
     "execution_count": 9,
     "metadata": {},
     "output_type": "execute_result"
    }
   ],
   "source": [
    "data.isna().sum()"
   ]
  },
  {
   "cell_type": "code",
   "execution_count": 10,
   "metadata": {},
   "outputs": [
    {
     "name": "stdout",
     "output_type": "stream",
     "text": [
      "Price       int64\n",
      "Year        int64\n",
      "Mileage     int64\n",
      "State      object\n",
      "Make       object\n",
      "Model      object\n",
      "unos        int64\n",
      "dtype: object\n"
     ]
    }
   ],
   "source": [
    "data[\"unos\"]=1\n",
    "print(data.dtypes)"
   ]
  },
  {
   "cell_type": "markdown",
   "metadata": {},
   "source": [
    "#### Análisis exploratorio variables independientes"
   ]
  },
  {
   "cell_type": "markdown",
   "metadata": {},
   "source": [
    "- **State variable**:"
   ]
  },
  {
   "cell_type": "code",
   "execution_count": 11,
   "metadata": {},
   "outputs": [],
   "source": [
    "# El mismo estado puede aparecer con combinaciones de minúsculas y mayúsculas así que se pasa a mayúscula sostenida\n",
    "data[\"State\"] = data[\"State\"].str.upper()"
   ]
  },
  {
   "cell_type": "markdown",
   "metadata": {},
   "source": [
    "- **Year variable**:"
   ]
  },
  {
   "cell_type": "code",
   "execution_count": 10,
   "metadata": {
    "scrolled": false
   },
   "outputs": [
    {
     "data": {
      "text/plain": [
       "count   500,000.00\n",
       "mean      2,013.20\n",
       "std           3.29\n",
       "min       1,997.00\n",
       "0%        1,997.00\n",
       "5%        2,006.00\n",
       "10%       2,008.00\n",
       "15%       2,010.00\n",
       "25%       2,012.00\n",
       "50%       2,014.00\n",
       "75%       2,016.00\n",
       "90%       2,017.00\n",
       "95%       2,017.00\n",
       "max       2,018.00\n",
       "Name: Year, dtype: float64"
      ]
     },
     "execution_count": 10,
     "metadata": {},
     "output_type": "execute_result"
    }
   ],
   "source": [
    "data.Year.describe(percentiles=[0.05, 0.1, 0.15, 0., .25, .5, .75, 0.9, 0.95])"
   ]
  },
  {
   "cell_type": "code",
   "execution_count": 11,
   "metadata": {
    "scrolled": true
   },
   "outputs": [
    {
     "data": {
      "text/plain": [
       "<matplotlib.axes._subplots.AxesSubplot at 0x25c6d4095c0>"
      ]
     },
     "execution_count": 11,
     "metadata": {},
     "output_type": "execute_result"
    },
    {
     "data": {
      "image/png": "[encoded data removed]",
      "text/plain": [
       "<Figure size 1440x360 with 1 Axes>"
      ]
     },
     "metadata": {
      "needs_background": "light"
     },
     "output_type": "display_data"
    }
   ],
   "source": [
    "plt.figure(figsize=(20,5))\n",
    "data[\"Year\"].hist()"
   ]
  },
  {
   "cell_type": "markdown",
   "metadata": {},
   "source": [
    "*Se observa una alta concentración en automóviles recientes, el promedio está en 2013, sin embargo el primer decil de los datos se encuentra en el año 2008 de la variable Year* \n",
    "\n",
    "*Este comportamiento sugiere analizar la variable para identificar la existencia de datos atípicos mediante un* **boxplot**"
   ]
  },
  {
   "cell_type": "code",
   "execution_count": 12,
   "metadata": {
    "scrolled": true
   },
   "outputs": [
    {
     "data": {
      "text/plain": [
       "<matplotlib.axes._subplots.AxesSubplot at 0x25c6797b668>"
      ]
     },
     "execution_count": 12,
     "metadata": {},
     "output_type": "execute_result"
    },
    {
     "data": {
      "image/png": "[encoded data removed]",
      "text/plain": [
       "<Figure size 720x360 with 1 Axes>"
      ]
     },
     "metadata": {
      "needs_background": "light"
     },
     "output_type": "display_data"
    }
   ],
   "source": [
    "plt.figure(figsize=(10,5))\n",
    "sns.boxplot(x=\"unos\", y=\"Year\",  data=data, palette=\"Set3\")"
   ]
  },
  {
   "cell_type": "markdown",
   "metadata": {},
   "source": [
    "- *Efectivamente, se observan valores extremos en la distribución de los datos, el análisis muestra que estos se presentan \n",
    "en la parte inferior de la distribución, antes del año 2006 aproximadamente.*\n",
    "\n",
    "- *Para ver la relación de estos valores extremos con el precio de los vehículos, se debe hacer un gráfico de puntos de estas dos variables.*\n"
   ]
  },
  {
   "cell_type": "markdown",
   "metadata": {},
   "source": [
    "- **Mileage variable**:"
   ]
  },
  {
   "cell_type": "code",
   "execution_count": 13,
   "metadata": {
    "scrolled": false
   },
   "outputs": [
    {
     "data": {
      "text/plain": [
       "count       500,000.00\n",
       "mean         55,076.43\n",
       "std          40,897.04\n",
       "min               5.00\n",
       "0%                5.00\n",
       "5%            8,599.00\n",
       "10%          14,411.00\n",
       "15%          18,691.00\n",
       "25%          25,855.00\n",
       "50%          42,990.00\n",
       "75%          77,406.00\n",
       "90%         111,269.00\n",
       "95%         133,220.15\n",
       "97%         148,716.09\n",
       "98%         160,397.04\n",
       "99%         180,459.11\n",
       "99.5%       200,105.01\n",
       "99.995%     547,050.70\n",
       "max       2,457,832.00\n",
       "Name: Mileage, dtype: float64"
      ]
     },
     "execution_count": 13,
     "metadata": {},
     "output_type": "execute_result"
    }
   ],
   "source": [
    "data.Mileage.describe(percentiles=[0.05, 0.1, 0.15, 0., .25, .5, .75, 0.9, 0.95, 0.97, 0.98, 0.99,  0.995, 0.99995])"
   ]
  },
  {
   "cell_type": "code",
   "execution_count": 14,
   "metadata": {
    "scrolled": false
   },
   "outputs": [
    {
     "data": {
      "text/plain": [
       "<matplotlib.axes._subplots.AxesSubplot at 0x25c6d7245f8>"
      ]
     },
     "execution_count": 14,
     "metadata": {},
     "output_type": "execute_result"
    },
    {
     "data": {
      "image/png": "[encoded data removed]",
      "text/plain": [
       "<Figure size 1440x360 with 1 Axes>"
      ]
     },
     "metadata": {
      "needs_background": "light"
     },
     "output_type": "display_data"
    }
   ],
   "source": [
    "plt.figure(figsize=(20,5))\n",
    "data[\"Mileage\"].hist(bins=20,range=(5,500200))"
   ]
  },
  {
   "cell_type": "markdown",
   "metadata": {},
   "source": [
    "*Se observa una alta concentración de automóviles con bajo kilometraje, el promedio está en 55.000 y la mediana en 43.000; esto indica que hay presencia de datos extremos o atípicos que aumentan el valor del promedio respecto de la mediana de la variable* **Mileage** \n",
    "\n",
    "*Este comportamiento sugiere analizar la variable para identificar la existencia de datos atípicos mediante un* **boxplot**"
   ]
  },
  {
   "cell_type": "code",
   "execution_count": 15,
   "metadata": {},
   "outputs": [
    {
     "data": {
      "text/plain": [
       "<matplotlib.axes._subplots.AxesSubplot at 0x25c6d7b7b70>"
      ]
     },
     "execution_count": 15,
     "metadata": {},
     "output_type": "execute_result"
    },
    {
     "data": {
      "image/png": "[encoded data removed]",
      "text/plain": [
       "<Figure size 576x360 with 1 Axes>"
      ]
     },
     "metadata": {
      "needs_background": "light"
     },
     "output_type": "display_data"
    }
   ],
   "source": [
    "plt.figure(figsize=(8,5))\n",
    "sns.boxplot(x=\"unos\", y=\"Mileage\",  data=data, palette=\"Set3\")"
   ]
  },
  {
   "cell_type": "markdown",
   "metadata": {},
   "source": [
    "- *Efectivamente como se anunció antes, se observan datos atípicos a partir del valor 200.000 aproximadamente, dado el alto volumen de datos para entrenar un modelo es posible pensar en no considerar estos valores, sin embargo se deben hacer otros análisis*.\n",
    "- *Otra opción, luego de analizar la relación de los datos atípicos encontrados con las demás variables, para el proceso de modelado conviene utilizar el logaritmo o reescalar*"
   ]
  },
  {
   "cell_type": "markdown",
   "metadata": {},
   "source": [
    "*Adicionante revisemos la relación que tienen los años más antiguos de los automóviles con el kilometraje de los mismos.*"
   ]
  },
  {
   "cell_type": "code",
   "execution_count": 16,
   "metadata": {},
   "outputs": [
    {
     "data": {
      "text/plain": [
       "<matplotlib.axes._subplots.AxesSubplot at 0x25c6d833c50>"
      ]
     },
     "execution_count": 16,
     "metadata": {},
     "output_type": "execute_result"
    },
    {
     "data": {
      "image/png": "[encoded data removed]",
      "text/plain": [
       "<Figure size 1440x360 with 1 Axes>"
      ]
     },
     "metadata": {
      "needs_background": "light"
     },
     "output_type": "display_data"
    }
   ],
   "source": [
    "data.plot(kind='scatter', y='Mileage', x='Year',figsize=(20,5))"
   ]
  },
  {
   "cell_type": "code",
   "execution_count": 17,
   "metadata": {},
   "outputs": [
    {
     "data": {
      "text/plain": [
       "<matplotlib.axes._subplots.AxesSubplot at 0x25c6d8aee48>"
      ]
     },
     "execution_count": 17,
     "metadata": {},
     "output_type": "execute_result"
    },
    {
     "data": {
      "image/png": "[encoded data removed]",
      "text/plain": [
       "<Figure size 1080x360 with 1 Axes>"
      ]
     },
     "metadata": {
      "needs_background": "light"
     },
     "output_type": "display_data"
    }
   ],
   "source": [
    "plt.figure(figsize=(15,5))\n",
    "sns.boxplot(x=\"Year\", y=\"Mileage\",  data=data, palette=\"Set3\")"
   ]
  },
  {
   "cell_type": "markdown",
   "metadata": {},
   "source": [
    "- *De acuerdo con estos análisis gráficos, se observa que los datos atípicos de la variable* **Mileage** están distribuidos en varios años del modelo que les corresponde a los automóviles bajo estudio.\n",
    "- En cuanto a los automóviles más antiguos, no se nota una asociación de los datos atípicos encontrados de la variable* **Mileage** . \n",
    "- *Dado este resultado, conviene excluir al 0.5% de la muestra que representan los datos atípicos de la variable* **Mileage.**"
   ]
  },
  {
   "cell_type": "markdown",
   "metadata": {},
   "source": [
    "###### Procedimiento para remover del análisis las observaciones atípicas de la variable Mileage ."
   ]
  },
  {
   "cell_type": "code",
   "execution_count": 18,
   "metadata": {},
   "outputs": [
    {
     "data": {
      "text/html": [
       "<div>\n",
       "<style scoped>\n",
       "    .dataframe tbody tr th:only-of-type {\n",
       "        vertical-align: middle;\n",
       "    }\n",
       "\n",
       "    .dataframe tbody tr th {\n",
       "        vertical-align: top;\n",
       "    }\n",
       "\n",
       "    .dataframe thead th {\n",
       "        text-align: right;\n",
       "    }\n",
       "</style>\n",
       "<table border=\"1\" class=\"dataframe\">\n",
       "  <thead>\n",
       "    <tr style=\"text-align: right;\">\n",
       "      <th></th>\n",
       "      <th>Price</th>\n",
       "      <th>Year</th>\n",
       "      <th>Mileage</th>\n",
       "      <th>State</th>\n",
       "      <th>Make</th>\n",
       "      <th>Model</th>\n",
       "      <th>unos</th>\n",
       "    </tr>\n",
       "  </thead>\n",
       "  <tbody>\n",
       "    <tr>\n",
       "      <th>0</th>\n",
       "      <td>21490</td>\n",
       "      <td>2014</td>\n",
       "      <td>31909</td>\n",
       "      <td>MD</td>\n",
       "      <td>Nissan</td>\n",
       "      <td>MuranoAWD</td>\n",
       "      <td>1</td>\n",
       "    </tr>\n",
       "    <tr>\n",
       "      <th>1</th>\n",
       "      <td>21250</td>\n",
       "      <td>2016</td>\n",
       "      <td>25741</td>\n",
       "      <td>KY</td>\n",
       "      <td>Chevrolet</td>\n",
       "      <td>CamaroCoupe</td>\n",
       "      <td>1</td>\n",
       "    </tr>\n",
       "    <tr>\n",
       "      <th>2</th>\n",
       "      <td>20925</td>\n",
       "      <td>2016</td>\n",
       "      <td>24633</td>\n",
       "      <td>SC</td>\n",
       "      <td>Hyundai</td>\n",
       "      <td>Santa</td>\n",
       "      <td>1</td>\n",
       "    </tr>\n",
       "    <tr>\n",
       "      <th>3</th>\n",
       "      <td>14500</td>\n",
       "      <td>2012</td>\n",
       "      <td>84026</td>\n",
       "      <td>OK</td>\n",
       "      <td>Jeep</td>\n",
       "      <td>Grand</td>\n",
       "      <td>1</td>\n",
       "    </tr>\n",
       "    <tr>\n",
       "      <th>4</th>\n",
       "      <td>32488</td>\n",
       "      <td>2013</td>\n",
       "      <td>22816</td>\n",
       "      <td>TN</td>\n",
       "      <td>Jeep</td>\n",
       "      <td>Wrangler</td>\n",
       "      <td>1</td>\n",
       "    </tr>\n",
       "  </tbody>\n",
       "</table>\n",
       "</div>"
      ],
      "text/plain": [
       "   Price  Year  Mileage State       Make        Model  unos\n",
       "0  21490  2014    31909    MD     Nissan    MuranoAWD     1\n",
       "1  21250  2016    25741    KY  Chevrolet  CamaroCoupe     1\n",
       "2  20925  2016    24633    SC    Hyundai        Santa     1\n",
       "3  14500  2012    84026    OK       Jeep        Grand     1\n",
       "4  32488  2013    22816    TN       Jeep     Wrangler     1"
      ]
     },
     "execution_count": 18,
     "metadata": {},
     "output_type": "execute_result"
    }
   ],
   "source": [
    "data2=data[data.Mileage<=200000]\n",
    "data2.head()"
   ]
  },
  {
   "cell_type": "markdown",
   "metadata": {},
   "source": [
    "- *Veámos cómo queda la distribución al excluir los datos atípicos identificados"
   ]
  },
  {
   "cell_type": "code",
   "execution_count": 19,
   "metadata": {},
   "outputs": [
    {
     "data": {
      "text/plain": [
       "count     497,488.00\n",
       "mean       54,130.93\n",
       "std        38,258.43\n",
       "min             5.00\n",
       "0%              5.00\n",
       "5%          8,563.00\n",
       "10%        14,359.00\n",
       "15%        18,632.00\n",
       "25%        25,760.75\n",
       "50%        42,790.00\n",
       "75%        76,700.00\n",
       "90%       109,873.00\n",
       "95%       130,473.90\n",
       "97%       144,303.95\n",
       "98%       154,215.78\n",
       "99%       169,002.04\n",
       "99.9%     195,156.59\n",
       "99.995%   199,925.38\n",
       "max       200,000.00\n",
       "Name: Mileage, dtype: float64"
      ]
     },
     "execution_count": 19,
     "metadata": {},
     "output_type": "execute_result"
    }
   ],
   "source": [
    "data2.Mileage.describe(percentiles=[0.05, 0.1, 0.15, 0., .25, .5, .75, 0.9, 0.95, 0.97, 0.98, 0.99,  0.999, 0.99995])"
   ]
  },
  {
   "cell_type": "code",
   "execution_count": 20,
   "metadata": {},
   "outputs": [
    {
     "data": {
      "text/plain": [
       "<matplotlib.axes._subplots.AxesSubplot at 0x25c6fb796d8>"
      ]
     },
     "execution_count": 20,
     "metadata": {},
     "output_type": "execute_result"
    },
    {
     "data": {
      "image/png": "[encoded data removed]",
      "text/plain": [
       "<Figure size 1440x360 with 1 Axes>"
      ]
     },
     "metadata": {
      "needs_background": "light"
     },
     "output_type": "display_data"
    }
   ],
   "source": [
    "plt.figure(figsize=(20,5))\n",
    "data2[\"Mileage\"].hist(bins=20)"
   ]
  },
  {
   "cell_type": "code",
   "execution_count": 21,
   "metadata": {
    "scrolled": true
   },
   "outputs": [
    {
     "data": {
      "text/plain": [
       "<matplotlib.axes._subplots.AxesSubplot at 0x25c6fb49400>"
      ]
     },
     "execution_count": 21,
     "metadata": {},
     "output_type": "execute_result"
    },
    {
     "data": {
      "image/png": "[encoded data removed]",
      "text/plain": [
       "<Figure size 576x360 with 1 Axes>"
      ]
     },
     "metadata": {
      "needs_background": "light"
     },
     "output_type": "display_data"
    }
   ],
   "source": [
    "plt.figure(figsize=(8,5))\n",
    "sns.boxplot(x=\"unos\", y=\"Mileage\",  data=data2, palette=\"Set3\")"
   ]
  },
  {
   "cell_type": "markdown",
   "metadata": {},
   "source": [
    "- *La distribución se ve menos sesgada hacia la derecha; no obstante hay presencia de datos extremos por lo que se recomienda  para el proceso de modelado  utilizar el logaritmo de los valores de esta variable*"
   ]
  },
  {
   "cell_type": "code",
   "execution_count": 22,
   "metadata": {},
   "outputs": [
    {
     "name": "stderr",
     "output_type": "stream",
     "text": [
      "C:\\Users\\Usuario\\Anaconda3\\lib\\site-packages\\ipykernel_launcher.py:1: SettingWithCopyWarning: \n",
      "A value is trying to be set on a copy of a slice from a DataFrame.\n",
      "Try using .loc[row_indexer,col_indexer] = value instead\n",
      "\n",
      "See the caveats in the documentation: http://pandas.pydata.org/pandas-docs/stable/indexing.html#indexing-view-versus-copy\n",
      "  \"\"\"Entry point for launching an IPython kernel.\n"
     ]
    },
    {
     "data": {
      "text/plain": [
       "count     497,488.00\n",
       "mean           10.59\n",
       "std             0.97\n",
       "min             1.61\n",
       "0%              1.61\n",
       "5%              9.06\n",
       "10%             9.57\n",
       "15%             9.83\n",
       "25%            10.16\n",
       "50%            10.66\n",
       "75%            11.25\n",
       "90%            11.61\n",
       "95%            11.78\n",
       "97%            11.88\n",
       "98%            11.95\n",
       "99%            12.04\n",
       "99.9%          12.18\n",
       "99.995%        12.21\n",
       "max            12.21\n",
       "Name: LogMileage, dtype: float64"
      ]
     },
     "execution_count": 22,
     "metadata": {},
     "output_type": "execute_result"
    }
   ],
   "source": [
    "data2[\"LogMileage\"] = np.log(data2[\"Mileage\"])\n",
    "data2.head(10)\n",
    "data2.LogMileage.describe(percentiles=[0.05, 0.1, 0.15, 0., .25, .5, .75, 0.9, 0.95, 0.97, 0.98, 0.99,  0.999, 0.99995])"
   ]
  },
  {
   "cell_type": "code",
   "execution_count": 23,
   "metadata": {},
   "outputs": [
    {
     "data": {
      "text/plain": [
       "<matplotlib.axes._subplots.AxesSubplot at 0x25c6fb797b8>"
      ]
     },
     "execution_count": 23,
     "metadata": {},
     "output_type": "execute_result"
    },
    {
     "data": {
      "image/png": "[encoded data removed]",
      "text/plain": [
       "<Figure size 1440x360 with 1 Axes>"
      ]
     },
     "metadata": {
      "needs_background": "light"
     },
     "output_type": "display_data"
    }
   ],
   "source": [
    "plt.figure(figsize=(20,5))\n",
    "data2[\"LogMileage\"].hist(bins=20)"
   ]
  },
  {
   "cell_type": "markdown",
   "metadata": {},
   "source": [
    "#### Variable Price"
   ]
  },
  {
   "cell_type": "code",
   "execution_count": 24,
   "metadata": {
    "scrolled": false
   },
   "outputs": [
    {
     "data": {
      "text/plain": [
       "count     497,488.00\n",
       "mean       21,196.50\n",
       "std        10,748.66\n",
       "min         5,001.00\n",
       "0%          5,001.00\n",
       "5%          7,988.00\n",
       "10%         9,855.70\n",
       "15%        10,999.00\n",
       "25%        13,526.00\n",
       "50%        18,495.00\n",
       "75%        26,999.00\n",
       "90%        35,809.30\n",
       "95%        41,992.00\n",
       "97%        46,588.00\n",
       "98%        49,900.00\n",
       "99%        54,991.00\n",
       "99.9%      71,900.00\n",
       "99.995%    79,991.00\n",
       "max        79,999.00\n",
       "Name: Price, dtype: float64"
      ]
     },
     "execution_count": 24,
     "metadata": {},
     "output_type": "execute_result"
    }
   ],
   "source": [
    "data2.Price.describe(percentiles=[0.05, 0.1, 0.15, 0., .25, .5, .75, 0.9, 0.95, 0.97, 0.98, 0.99,  0.999, 0.99995])"
   ]
  },
  {
   "cell_type": "code",
   "execution_count": 25,
   "metadata": {},
   "outputs": [
    {
     "data": {
      "text/plain": [
       "<matplotlib.axes._subplots.AxesSubplot at 0x25c6fce21d0>"
      ]
     },
     "execution_count": 25,
     "metadata": {},
     "output_type": "execute_result"
    },
    {
     "data": {
      "image/png": "[encoded data removed]",
      "text/plain": [
       "<Figure size 1440x360 with 1 Axes>"
      ]
     },
     "metadata": {
      "needs_background": "light"
     },
     "output_type": "display_data"
    }
   ],
   "source": [
    "plt.figure(figsize=(20,5))\n",
    "data2[\"Price\"].hist(bins=20)"
   ]
  },
  {
   "cell_type": "markdown",
   "metadata": {},
   "source": [
    "*Esta variable presente asimetría en el lado derecho de la distribución, generando con esto que el promedio se vea afectado por la presencia de valores extremos.*\n",
    "\n",
    "*Analicemos el comportamiento de la variable mediante un* **boxplot**"
   ]
  },
  {
   "cell_type": "code",
   "execution_count": 26,
   "metadata": {},
   "outputs": [
    {
     "data": {
      "text/plain": [
       "<matplotlib.axes._subplots.AxesSubplot at 0x25c6ff254a8>"
      ]
     },
     "execution_count": 26,
     "metadata": {},
     "output_type": "execute_result"
    },
    {
     "data": {
      "image/png": "[encoded data removed]",
      "text/plain": [
       "<Figure size 576x360 with 1 Axes>"
      ]
     },
     "metadata": {
      "needs_background": "light"
     },
     "output_type": "display_data"
    }
   ],
   "source": [
    "plt.figure(figsize=(8,5))\n",
    "sns.boxplot(x=\"unos\", y=\"Price\",  data=data, palette=\"Set3\")"
   ]
  },
  {
   "cell_type": "markdown",
   "metadata": {},
   "source": [
    "- *Se observan datos extremos a partir de del valor 50.000 aproximadamente*.\n",
    "- *Se recomienda trabajar transformando la variable usando el logaritmo*. "
   ]
  },
  {
   "cell_type": "code",
   "execution_count": 27,
   "metadata": {},
   "outputs": [
    {
     "name": "stderr",
     "output_type": "stream",
     "text": [
      "C:\\Users\\Usuario\\Anaconda3\\lib\\site-packages\\ipykernel_launcher.py:1: SettingWithCopyWarning: \n",
      "A value is trying to be set on a copy of a slice from a DataFrame.\n",
      "Try using .loc[row_indexer,col_indexer] = value instead\n",
      "\n",
      "See the caveats in the documentation: http://pandas.pydata.org/pandas-docs/stable/indexing.html#indexing-view-versus-copy\n",
      "  \"\"\"Entry point for launching an IPython kernel.\n"
     ]
    },
    {
     "data": {
      "text/plain": [
       "count     497,488.00\n",
       "mean            9.84\n",
       "std             0.50\n",
       "min             8.52\n",
       "5%              8.99\n",
       "10%             9.20\n",
       "15%             9.31\n",
       "20%             9.43\n",
       "25%             9.51\n",
       "50%             9.83\n",
       "75%            10.20\n",
       "90%            10.49\n",
       "95%            10.65\n",
       "97%            10.75\n",
       "98%            10.82\n",
       "99%            10.91\n",
       "99.9%          11.18\n",
       "99.995%        11.29\n",
       "max            11.29\n",
       "Name: LogPrice, dtype: float64"
      ]
     },
     "execution_count": 27,
     "metadata": {},
     "output_type": "execute_result"
    }
   ],
   "source": [
    "data2[\"LogPrice\"] = np.log(data2[\"Price\"])\n",
    "data2.head(10)\n",
    "data2.LogPrice.describe(percentiles=[0.05, 0.1, 0.15, 0.2, .25, .5, .75, 0.9, 0.95, 0.97, 0.98, 0.99,  0.999, 0.99995])"
   ]
  },
  {
   "cell_type": "code",
   "execution_count": 28,
   "metadata": {
    "scrolled": true
   },
   "outputs": [
    {
     "data": {
      "text/plain": [
       "<matplotlib.axes._subplots.AxesSubplot at 0x25c6ff9ba58>"
      ]
     },
     "execution_count": 28,
     "metadata": {},
     "output_type": "execute_result"
    },
    {
     "data": {
      "image/png": "[encoded data removed]",
      "text/plain": [
       "<Figure size 1440x360 with 1 Axes>"
      ]
     },
     "metadata": {
      "needs_background": "light"
     },
     "output_type": "display_data"
    }
   ],
   "source": [
    "plt.figure(figsize=(20,5))\n",
    "data2[\"LogPrice\"].hist(bins=20)"
   ]
  },
  {
   "cell_type": "markdown",
   "metadata": {},
   "source": [
    "- *Al aplicar la transformación, se reduce ampliamente el sesgo que tenía la variable original*"
   ]
  },
  {
   "cell_type": "code",
   "execution_count": 29,
   "metadata": {},
   "outputs": [
    {
     "name": "stdout",
     "output_type": "stream",
     "text": [
      "Price           int64\n",
      "Year            int64\n",
      "Mileage         int64\n",
      "State          object\n",
      "Make           object\n",
      "Model          object\n",
      "unos            int64\n",
      "LogMileage    float64\n",
      "LogPrice      float64\n",
      "dtype: object\n"
     ]
    }
   ],
   "source": [
    "print(data2.dtypes)"
   ]
  },
  {
   "cell_type": "code",
   "execution_count": 30,
   "metadata": {
    "scrolled": false
   },
   "outputs": [
    {
     "name": "stdout",
     "output_type": "stream",
     "text": [
      "LogPrice      float64\n",
      "Year            int64\n",
      "LogMileage    float64\n",
      "State          object\n",
      "Make           object\n",
      "Model          object\n",
      "dtype: object\n"
     ]
    }
   ],
   "source": [
    "#Se conservan las varibles para el análisis\n",
    "data2=data2.iloc[:,[8,1,7,3,4,5]]\n",
    "print(data2.dtypes)"
   ]
  },
  {
   "cell_type": "markdown",
   "metadata": {},
   "source": [
    "- *Evaluemos gráficamente la relación de estos valores con las demás variables cuantitativas.*"
   ]
  },
  {
   "cell_type": "markdown",
   "metadata": {},
   "source": [
    "#### Scarters Plot: Variables continuas"
   ]
  },
  {
   "cell_type": "code",
   "execution_count": 31,
   "metadata": {
    "scrolled": false
   },
   "outputs": [
    {
     "data": {
      "image/png": "[encoded data removed]",
      "text/plain": [
       "<Figure size 540x540 with 12 Axes>"
      ]
     },
     "metadata": {
      "needs_background": "light"
     },
     "output_type": "display_data"
    }
   ],
   "source": [
    "sns.pairplot(data2[[\"LogPrice\",\"Year\", \"LogMileage\"]])\n",
    "plt.show()"
   ]
  },
  {
   "cell_type": "markdown",
   "metadata": {},
   "source": [
    "- *Con base en el gráfico, La variable \"Year\" tiene cierta relación lineal positiva con la variable LogPrice*. Mostrando que entre más reciente es el auto, mayor es su valor.\n",
    "- *De igual manera, también se observa tendencia linear negativa de la variable de kilometraje \"LogMeliage\" con \"LogPrice\", evidenciando que a mayor valor de kilometraje, menor es el valor del automóvil*.\n",
    "- *Con base en lo anterior, se analizan los coeficientes de correlación entre las variables cuantitativas*"
   ]
  },
  {
   "cell_type": "code",
   "execution_count": 32,
   "metadata": {
    "scrolled": true
   },
   "outputs": [
    {
     "data": {
      "text/html": [
       "<style  type=\"text/css\" >\n",
       "</style><table id=\"T_3a1f97b6_ba44_11ea_a3d4_58a023b28c9c\" ><thead>    <tr>        <th class=\"blank level0\" ></th>        <th class=\"col_heading level0 col0\" >LogPrice</th>        <th class=\"col_heading level0 col1\" >LogMileage</th>        <th class=\"col_heading level0 col2\" >Year</th>    </tr></thead><tbody>\n",
       "                <tr>\n",
       "                        <th id=\"T_3a1f97b6_ba44_11ea_a3d4_58a023b28c9clevel0_row0\" class=\"row_heading level0 row0\" >LogPrice</th>\n",
       "                        <td id=\"T_3a1f97b6_ba44_11ea_a3d4_58a023b28c9crow0_col0\" class=\"data row0 col0\" >1.0</td>\n",
       "                        <td id=\"T_3a1f97b6_ba44_11ea_a3d4_58a023b28c9crow0_col1\" class=\"data row0 col1\" >-0.4818</td>\n",
       "                        <td id=\"T_3a1f97b6_ba44_11ea_a3d4_58a023b28c9crow0_col2\" class=\"data row0 col2\" >0.5667</td>\n",
       "            </tr>\n",
       "            <tr>\n",
       "                        <th id=\"T_3a1f97b6_ba44_11ea_a3d4_58a023b28c9clevel0_row1\" class=\"row_heading level0 row1\" >LogMileage</th>\n",
       "                        <td id=\"T_3a1f97b6_ba44_11ea_a3d4_58a023b28c9crow1_col0\" class=\"data row1 col0\" >-0.4818</td>\n",
       "                        <td id=\"T_3a1f97b6_ba44_11ea_a3d4_58a023b28c9crow1_col1\" class=\"data row1 col1\" >1.0</td>\n",
       "                        <td id=\"T_3a1f97b6_ba44_11ea_a3d4_58a023b28c9crow1_col2\" class=\"data row1 col2\" >-0.6156</td>\n",
       "            </tr>\n",
       "            <tr>\n",
       "                        <th id=\"T_3a1f97b6_ba44_11ea_a3d4_58a023b28c9clevel0_row2\" class=\"row_heading level0 row2\" >Year</th>\n",
       "                        <td id=\"T_3a1f97b6_ba44_11ea_a3d4_58a023b28c9crow2_col0\" class=\"data row2 col0\" >0.5667</td>\n",
       "                        <td id=\"T_3a1f97b6_ba44_11ea_a3d4_58a023b28c9crow2_col1\" class=\"data row2 col1\" >-0.6156</td>\n",
       "                        <td id=\"T_3a1f97b6_ba44_11ea_a3d4_58a023b28c9crow2_col2\" class=\"data row2 col2\" >1.0</td>\n",
       "            </tr>\n",
       "    </tbody></table>"
      ],
      "text/plain": [
       "<pandas.io.formats.style.Styler at 0x25c0005efd0>"
      ]
     },
     "execution_count": 32,
     "metadata": {},
     "output_type": "execute_result"
    }
   ],
   "source": [
    "data2[[\"LogPrice\", \"LogMileage\",\"Year\"]].corr(method ='pearson').style.format(\"{:.4}\")"
   ]
  },
  {
   "cell_type": "markdown",
   "metadata": {},
   "source": [
    "- *Las dos variables, LogMileage y Year, tienen moderada-alta correlación con el Logarítmo del precio, una es negativa y la otra positiva, respectivamente*\n",
    "\n",
    "#### Veámos ahora la manera de cómo vamos a trabajar con las variables categóricas de la base de datos"
   ]
  },
  {
   "cell_type": "code",
   "execution_count": 110,
   "metadata": {
    "scrolled": true
   },
   "outputs": [
    {
     "data": {
      "text/html": [
       "<div>\n",
       "<style scoped>\n",
       "    .dataframe tbody tr th:only-of-type {\n",
       "        vertical-align: middle;\n",
       "    }\n",
       "\n",
       "    .dataframe tbody tr th {\n",
       "        vertical-align: top;\n",
       "    }\n",
       "\n",
       "    .dataframe thead th {\n",
       "        text-align: right;\n",
       "    }\n",
       "</style>\n",
       "<table border=\"1\" class=\"dataframe\">\n",
       "  <thead>\n",
       "    <tr style=\"text-align: right;\">\n",
       "      <th></th>\n",
       "      <th>col_0</th>\n",
       "      <th>col_1</th>\n",
       "      <th>col_2</th>\n",
       "      <th>col_3</th>\n",
       "      <th>col_4</th>\n",
       "      <th>col_5</th>\n",
       "      <th>col_6</th>\n",
       "      <th>LogPrice</th>\n",
       "      <th>Year</th>\n",
       "      <th>LogMileage</th>\n",
       "    </tr>\n",
       "  </thead>\n",
       "  <tbody>\n",
       "    <tr>\n",
       "      <th>0</th>\n",
       "      <td>0</td>\n",
       "      <td>0</td>\n",
       "      <td>1</td>\n",
       "      <td>0</td>\n",
       "      <td>1</td>\n",
       "      <td>1</td>\n",
       "      <td>0</td>\n",
       "      <td>9.98</td>\n",
       "      <td>2014</td>\n",
       "      <td>10.37</td>\n",
       "    </tr>\n",
       "    <tr>\n",
       "      <th>1</th>\n",
       "      <td>0</td>\n",
       "      <td>0</td>\n",
       "      <td>1</td>\n",
       "      <td>1</td>\n",
       "      <td>1</td>\n",
       "      <td>0</td>\n",
       "      <td>0</td>\n",
       "      <td>9.96</td>\n",
       "      <td>2016</td>\n",
       "      <td>10.16</td>\n",
       "    </tr>\n",
       "    <tr>\n",
       "      <th>2</th>\n",
       "      <td>0</td>\n",
       "      <td>0</td>\n",
       "      <td>1</td>\n",
       "      <td>1</td>\n",
       "      <td>0</td>\n",
       "      <td>1</td>\n",
       "      <td>0</td>\n",
       "      <td>9.95</td>\n",
       "      <td>2016</td>\n",
       "      <td>10.11</td>\n",
       "    </tr>\n",
       "    <tr>\n",
       "      <th>3</th>\n",
       "      <td>1</td>\n",
       "      <td>0</td>\n",
       "      <td>1</td>\n",
       "      <td>1</td>\n",
       "      <td>0</td>\n",
       "      <td>0</td>\n",
       "      <td>0</td>\n",
       "      <td>9.58</td>\n",
       "      <td>2012</td>\n",
       "      <td>11.34</td>\n",
       "    </tr>\n",
       "    <tr>\n",
       "      <th>4</th>\n",
       "      <td>1</td>\n",
       "      <td>1</td>\n",
       "      <td>1</td>\n",
       "      <td>0</td>\n",
       "      <td>0</td>\n",
       "      <td>0</td>\n",
       "      <td>0</td>\n",
       "      <td>10.39</td>\n",
       "      <td>2013</td>\n",
       "      <td>10.04</td>\n",
       "    </tr>\n",
       "  </tbody>\n",
       "</table>\n",
       "</div>"
      ],
      "text/plain": [
       "   col_0  col_1  col_2  col_3  col_4  col_5  col_6  LogPrice  Year  LogMileage\n",
       "0      0      0      1      0      1      1      0      9.98  2014       10.37\n",
       "1      0      0      1      1      1      0      0      9.96  2016       10.16\n",
       "2      0      0      1      1      0      1      0      9.95  2016       10.11\n",
       "3      1      0      1      1      0      0      0      9.58  2012       11.34\n",
       "4      1      1      1      0      0      0      0     10.39  2013       10.04"
      ]
     },
     "execution_count": 110,
     "metadata": {},
     "output_type": "execute_result"
    }
   ],
   "source": [
    "encoder_purpose = ce.HashingEncoder(n_components=7, cols=['State', 'Make', 'Model'])\n",
    "en_data = encoder_purpose.fit_transform(data2)\n",
    "en_data.head()"
   ]
  },
  {
   "cell_type": "code",
   "execution_count": 111,
   "metadata": {},
   "outputs": [],
   "source": [
    "en_data.to_csv('en_data.csv', index = False)"
   ]
  },
  {
   "cell_type": "code",
   "execution_count": 112,
   "metadata": {},
   "outputs": [],
   "source": [
    "en_data = pd.read_csv('en_data.csv')"
   ]
  },
  {
   "cell_type": "code",
   "execution_count": 36,
   "metadata": {
    "scrolled": true
   },
   "outputs": [
    {
     "name": "stdout",
     "output_type": "stream",
     "text": [
      "0    298066\n",
      "1    169320\n",
      "2     28606\n",
      "3      1496\n",
      "Name: col_0, dtype: int64\n",
      "0    365850\n",
      "1    115623\n",
      "2     15242\n",
      "3       773\n",
      "Name: col_1, dtype: int64\n",
      "0    266771\n",
      "1    188526\n",
      "2     40038\n",
      "3      2153\n",
      "Name: col_2, dtype: int64\n",
      "0    264118\n",
      "1    184493\n",
      "2     44599\n",
      "3      4278\n",
      "Name: col_3, dtype: int64\n",
      "0    317690\n",
      "1    151502\n",
      "2     26525\n",
      "3      1771\n",
      "Name: col_4, dtype: int64\n",
      "0    294178\n",
      "1    157801\n",
      "2     42327\n",
      "3      3182\n",
      "Name: col_5, dtype: int64\n",
      "0    411949\n",
      "1     81541\n",
      "2      3969\n",
      "3        29\n",
      "Name: col_6, dtype: int64\n"
     ]
    },
    {
     "data": {
      "text/plain": [
       "(497488, 10)"
      ]
     },
     "execution_count": 36,
     "metadata": {},
     "output_type": "execute_result"
    }
   ],
   "source": [
    "print(en_data['col_0'].value_counts())\n",
    "print(en_data['col_1'].value_counts())\n",
    "print(en_data['col_2'].value_counts())\n",
    "print(en_data['col_3'].value_counts())\n",
    "print(en_data['col_4'].value_counts())\n",
    "print(en_data['col_5'].value_counts())\n",
    "print(en_data['col_6'].value_counts())\n",
    "en_data.shape"
   ]
  },
  {
   "cell_type": "markdown",
   "metadata": {},
   "source": [
    "- 25% - Notebook explaining the process for selecting the best model. You must specify how the calibration of each of the parameters is done and how these change the performance of the model. It is expected that a clear comparison will be made of all implemented models.. Present the most relevant conslusions about the whole process. "
   ]
  },
  {
   "cell_type": "markdown",
   "metadata": {},
   "source": [
    "### Modelamiento de los datos"
   ]
  },
  {
   "cell_type": "code",
   "execution_count": 37,
   "metadata": {},
   "outputs": [],
   "source": [
    "y = en_data['LogPrice']\n",
    "X = en_data.drop(['LogPrice'], axis=1)"
   ]
  },
  {
   "cell_type": "code",
   "execution_count": 38,
   "metadata": {},
   "outputs": [],
   "source": [
    "X_train, X_test, y_train, y_test = train_test_split(X, y, test_size=0.25, random_state=0)"
   ]
  },
  {
   "cell_type": "code",
   "execution_count": 39,
   "metadata": {},
   "outputs": [
    {
     "data": {
      "text/plain": [
       "(124372, 9)"
      ]
     },
     "execution_count": 39,
     "metadata": {},
     "output_type": "execute_result"
    }
   ],
   "source": [
    "X_test.shape"
   ]
  },
  {
   "cell_type": "markdown",
   "metadata": {},
   "source": [
    "- *Modelado de los datos usando RandomForestRegressor*"
   ]
  },
  {
   "cell_type": "code",
   "execution_count": 40,
   "metadata": {
    "scrolled": false
   },
   "outputs": [
    {
     "name": "stderr",
     "output_type": "stream",
     "text": [
      "C:\\Users\\Usuario\\Anaconda3\\lib\\site-packages\\sklearn\\ensemble\\forest.py:245: FutureWarning: The default value of n_estimators will change from 10 in version 0.20 to 100 in 0.22.\n",
      "  \"10 in version 0.20 to 100 in 0.22.\", FutureWarning)\n"
     ]
    },
    {
     "name": "stdout",
     "output_type": "stream",
     "text": [
      "[ 9.41393114 10.17651766  9.73127134 ...  9.90931266  9.70902953\n",
      " 10.3975169 ]\n"
     ]
    },
    {
     "data": {
      "text/plain": [
       "(124372,)"
      ]
     },
     "execution_count": 40,
     "metadata": {},
     "output_type": "execute_result"
    }
   ],
   "source": [
    "RegRanForest = RandomForestRegressor(random_state=0, n_jobs=-1)\n",
    "PredRegRanForest=RegRanForest.fit(X_train, y_train)\n",
    "predictions = PredRegRanForest.predict(X_test)\n",
    "print(predictions)\n",
    "predictions.shape"
   ]
  },
  {
   "cell_type": "code",
   "execution_count": 41,
   "metadata": {},
   "outputs": [
    {
     "name": "stdout",
     "output_type": "stream",
     "text": [
      "Test RMSE: 0.428\n"
     ]
    }
   ],
   "source": [
    "from sklearn.metrics import mean_squared_error\n",
    "error = mean_squared_error(y_test, predictions)**0.5\n",
    "print('Test RMSE: %.3f' % error)"
   ]
  },
  {
   "cell_type": "markdown",
   "metadata": {},
   "source": [
    "- El RMSE del modelo entrenado con Random Forest es 0.428 \n",
    "\n",
    "#### ¿Ahora si se optimiza el hiperparámetro n_estimators, se mejora el RSME?"
   ]
  },
  {
   "cell_type": "code",
   "execution_count": 42,
   "metadata": {},
   "outputs": [],
   "source": [
    "estimator_range = range(1, 50, 1)\n",
    "\n",
    "# list to store the average Accuracy for each value of n_estimators\n",
    "error_scores = []\n",
    "\n",
    "\n",
    "for estimator in estimator_range:\n",
    "    RandForestReg = RandomForestRegressor(n_estimators=estimator, random_state=0, n_jobs=-1)\n",
    "    predictions = PredRegRanForest.predict(X_test)\n",
    "    error_scores.append((mean_squared_error(y_test, predictions)**0.5))"
   ]
  },
  {
   "cell_type": "code",
   "execution_count": 43,
   "metadata": {
    "scrolled": true
   },
   "outputs": [
    {
     "data": {
      "text/plain": [
       "Text(0, 0.5, 'RMSE')"
      ]
     },
     "execution_count": 43,
     "metadata": {},
     "output_type": "execute_result"
    },
    {
     "data": {
      "image/png": "[encoded data removed]",
      "text/plain": [
       "<Figure size 432x288 with 1 Axes>"
      ]
     },
     "metadata": {
      "needs_background": "light"
     },
     "output_type": "display_data"
    }
   ],
   "source": [
    "plt.plot(estimator_range, error_scores)\n",
    "plt.xlabel('n_estimators')\n",
    "plt.ylabel('RMSE')"
   ]
  },
  {
   "cell_type": "markdown",
   "metadata": {},
   "source": [
    "- Al optimizar el hiperparámetro n_estimators, no hay mejora para el RMSE del modelo entrenado con Random Forest"
   ]
  },
  {
   "cell_type": "markdown",
   "metadata": {},
   "source": [
    "- *Modelado de los datos usando XGBOOTING Regressor*"
   ]
  },
  {
   "cell_type": "code",
   "execution_count": 44,
   "metadata": {},
   "outputs": [],
   "source": [
    "import xgboost as xgb"
   ]
  },
  {
   "cell_type": "code",
   "execution_count": 128,
   "metadata": {
    "scrolled": true
   },
   "outputs": [
    {
     "name": "stderr",
     "output_type": "stream",
     "text": [
      "C:\\Users\\Usuario\\Anaconda3\\lib\\site-packages\\xgboost\\core.py:587: FutureWarning: Series.base is deprecated and will be removed in a future version\n",
      "  if getattr(data, 'base', None) is not None and \\\n"
     ]
    },
    {
     "name": "stdout",
     "output_type": "stream",
     "text": [
      "Test RMSE XGBoost: 0.37825\n"
     ]
    }
   ],
   "source": [
    "xg_reg = xgb.XGBRegressor(objective ='reg:squarederror')\n",
    "xg_reg.fit(X_train,y_train)\n",
    "preds = xg_reg.predict(X_test)\n",
    "error = mean_squared_error(y_test, preds)**0.5\n",
    "print('Test RMSE XGBoost: %.5f' % error)"
   ]
  },
  {
   "cell_type": "markdown",
   "metadata": {},
   "source": [
    "- Sin optimizar los hiperparámetros, el XGBootsRegresor optime un menor RMSE que el RandomForest "
   ]
  },
  {
   "cell_type": "markdown",
   "metadata": {},
   "source": [
    "### Optimizando Hiperparámetros del XGBoost Regressor"
   ]
  },
  {
   "cell_type": "markdown",
   "metadata": {},
   "source": [
    "- *n_estimators*"
   ]
  },
  {
   "cell_type": "code",
   "execution_count": 46,
   "metadata": {},
   "outputs": [],
   "source": [
    "xg_reg = xgb.XGBRegressor(objective ='reg:linear')"
   ]
  },
  {
   "cell_type": "code",
   "execution_count": 48,
   "metadata": {},
   "outputs": [],
   "source": [
    "def cross_validation_split(dataset, folds=3):\n",
    "    dataset_split = list()\n",
    "    dataset_copy = list(dataset.index.values) \n",
    "    fold_size = int(len(dataset) / folds)\n",
    "    for i in range(folds):\n",
    "        fold = list()\n",
    "        while len(fold) < fold_size:\n",
    "            index = randrange(len(dataset_copy))\n",
    "            fold.append(dataset_copy.pop(index))\n",
    "        dataset_split.append(fold)\n",
    "    return dataset_split"
   ]
  },
  {
   "cell_type": "code",
   "execution_count": 133,
   "metadata": {},
   "outputs": [],
   "source": [
    "def cross_val_scores(model, dataframe, k=3):\n",
    "    train_folds= []\n",
    "    for i in range(k):  \n",
    "        a = range(k)\n",
    "        b = [x for m,x in enumerate(a) if m!=i]\n",
    "        train_folds.append(b)\n",
    "    train_data=dataframe.sample(frac=0.90, random_state=1)\n",
    "    folds = cross_validation_split(train_data, k)\n",
    "    error_scores = []\n",
    "    for i in range(k):\n",
    "        test= folds[i]\n",
    "        train=[]\n",
    "        \n",
    "        for j in range(k-1):\n",
    "            train.append(folds[train_folds[i][j]])\n",
    "        flat_list = []\n",
    "        for sublist in train:\n",
    "            for item in sublist:\n",
    "                flat_list.append(item)\n",
    "        train = flat_list\n",
    "        #Test y Train\n",
    "        Train = train_data.loc[train]\n",
    "        y_train = Train.LogPrice.values\n",
    "        X_train = Train.drop(columns = 'LogPrice', axis = 1)\n",
    "        Test = train_data.loc[test]\n",
    "        y_test = Test.LogPrice.values\n",
    "        X_test = Test.drop(columns = 'LogPrice', axis = 1)\n",
    "        model.fit(X_train, y_train)\n",
    "        preds = model.predict(X_test)\n",
    "        error_scores.append((mean_squared_error(y_test, preds)**0.5))\n",
    "    return mean(error_scores)"
   ]
  },
  {
   "cell_type": "code",
   "execution_count": 143,
   "metadata": {},
   "outputs": [
    {
     "name": "stdout",
     "output_type": "stream",
     "text": [
      "50\n",
      "150\n",
      "200\n",
      "250\n"
     ]
    }
   ],
   "source": [
    "estimator_range = [50, 150, 200, 250]\n",
    "error_scores = []\n",
    "for i in estimator_range:\n",
    "    xg_reg = xgb.XGBRegressor(objective ='reg:squarederror', n_estimators=i, random_state=0, n_jobs=-1)\n",
    "    K=10\n",
    "    solv = cross_val_scores(xg_reg, en_data, K)\n",
    "    error_scores.append(solv)\n",
    "    print(i)"
   ]
  },
  {
   "cell_type": "code",
   "execution_count": 144,
   "metadata": {},
   "outputs": [
    {
     "data": {
      "text/plain": [
       "[0.3854930600985835,\n",
       " 0.37710444854117986,\n",
       " 0.3759492060420324,\n",
       " 0.3751546903135558]"
      ]
     },
     "execution_count": 144,
     "metadata": {},
     "output_type": "execute_result"
    }
   ],
   "source": [
    "error_scores"
   ]
  },
  {
   "cell_type": "code",
   "execution_count": 145,
   "metadata": {},
   "outputs": [
    {
     "data": {
      "text/plain": [
       "Text(0, 0.5, 'RMSE')"
      ]
     },
     "execution_count": 145,
     "metadata": {},
     "output_type": "execute_result"
    },
    {
     "data": {
      "image/png": "[encoded data removed]",
      "text/plain": [
       "<Figure size 432x288 with 1 Axes>"
      ]
     },
     "metadata": {
      "needs_background": "light"
     },
     "output_type": "display_data"
    }
   ],
   "source": [
    "plt.plot(estimator_range, error_scores)\n",
    "plt.xlabel('n_estimators')\n",
    "plt.ylabel('RMSE')"
   ]
  },
  {
   "cell_type": "code",
   "execution_count": 136,
   "metadata": {},
   "outputs": [
    {
     "name": "stdout",
     "output_type": "stream",
     "text": [
      "0.3\n",
      "0.5\n",
      "0.8\n",
      "1\n"
     ]
    }
   ],
   "source": [
    "colsample_bytree_opts = [0.3, 0.5, 0.8, 1]\n",
    "\n",
    "# list to store the average Accuracy for each value of n_estimators\n",
    "error_scores = []\n",
    "\n",
    "for i in colsample_bytree_opts:\n",
    "    xg_reg = xgb.XGBRegressor(objective ='reg:squarederror', colsample_bytree=i, random_state=0, n_jobs=-1, )\n",
    "    K=10\n",
    "    solv = cross_val_scores(xg_reg, en_data, K)\n",
    "    error_scores.append(solv)\n",
    "    print(i)"
   ]
  },
  {
   "cell_type": "code",
   "execution_count": 137,
   "metadata": {},
   "outputs": [
    {
     "data": {
      "text/plain": [
       "[0.38305613911733266,\n",
       " 0.3796468983818514,\n",
       " 0.37889803270986017,\n",
       " 0.37878817766584477]"
      ]
     },
     "execution_count": 137,
     "metadata": {},
     "output_type": "execute_result"
    }
   ],
   "source": [
    "error_scores"
   ]
  },
  {
   "cell_type": "code",
   "execution_count": 138,
   "metadata": {},
   "outputs": [
    {
     "data": {
      "text/plain": [
       "Text(0, 0.5, 'RMSE')"
      ]
     },
     "execution_count": 138,
     "metadata": {},
     "output_type": "execute_result"
    },
    {
     "data": {
      "image/png": "[encoded data removed]",
      "text/plain": [
       "<Figure size 432x288 with 1 Axes>"
      ]
     },
     "metadata": {
      "needs_background": "light"
     },
     "output_type": "display_data"
    }
   ],
   "source": [
    "plt.plot(colsample_bytree_opts, error_scores)\n",
    "plt.xlabel('colsample_bytree_opts')\n",
    "plt.ylabel('RMSE')"
   ]
  },
  {
   "cell_type": "code",
   "execution_count": 139,
   "metadata": {},
   "outputs": [
    {
     "name": "stdout",
     "output_type": "stream",
     "text": [
      "1\n",
      "3\n",
      "5\n"
     ]
    }
   ],
   "source": [
    "gamma_opts = [1, 3, 5]\n",
    "\n",
    "# list to store the average Accuracy for each value of n_estimators\n",
    "error_scores = []\n",
    "\n",
    "for i in gamma_opts:\n",
    "    xg_reg = xgb.XGBRegressor(objective ='reg:squarederror', gamma=i, random_state=0, n_jobs=-1, )\n",
    "    K=10\n",
    "    solv = cross_val_scores(xg_reg, en_data, K)\n",
    "    error_scores.append(solv)\n",
    "    print(i)"
   ]
  },
  {
   "cell_type": "code",
   "execution_count": 140,
   "metadata": {},
   "outputs": [
    {
     "data": {
      "text/plain": [
       "[0.3788780943974951, 0.37907750803972384, 0.37964252140482824]"
      ]
     },
     "execution_count": 140,
     "metadata": {},
     "output_type": "execute_result"
    }
   ],
   "source": [
    "error_scores"
   ]
  },
  {
   "cell_type": "code",
   "execution_count": 141,
   "metadata": {},
   "outputs": [
    {
     "data": {
      "text/plain": [
       "Text(0, 0.5, 'RMSE')"
      ]
     },
     "execution_count": 141,
     "metadata": {},
     "output_type": "execute_result"
    },
    {
     "data": {
      "image/png": "[encoded data removed]",
      "text/plain": [
       "<Figure size 432x288 with 1 Axes>"
      ]
     },
     "metadata": {
      "needs_background": "light"
     },
     "output_type": "display_data"
    }
   ],
   "source": [
    "plt.plot(gamma_opts, error_scores)\n",
    "plt.xlabel('gamma_opts')\n",
    "plt.ylabel('RMSE')"
   ]
  },
  {
   "cell_type": "markdown",
   "metadata": {},
   "source": [
    "#### Dadas las optimizaciones individuales de los hiperparámetros, el mejor modelo es el siguiente:"
   ]
  },
  {
   "cell_type": "code",
   "execution_count": 115,
   "metadata": {},
   "outputs": [],
   "source": [
    "y = en_data['LogPrice']\n",
    "X = en_data.drop(['LogPrice'], axis=1)"
   ]
  },
  {
   "cell_type": "code",
   "execution_count": 116,
   "metadata": {},
   "outputs": [],
   "source": [
    "X_train, X_test, y_train, y_test = train_test_split(X, y, test_size=0.25, random_state=0)"
   ]
  },
  {
   "cell_type": "code",
   "execution_count": 117,
   "metadata": {},
   "outputs": [
    {
     "data": {
      "text/plain": [
       "(124372, 9)"
      ]
     },
     "execution_count": 117,
     "metadata": {},
     "output_type": "execute_result"
    }
   ],
   "source": [
    "X_test.shape"
   ]
  },
  {
   "cell_type": "code",
   "execution_count": 146,
   "metadata": {
    "scrolled": false
   },
   "outputs": [
    {
     "name": "stderr",
     "output_type": "stream",
     "text": [
      "C:\\Users\\Usuario\\Anaconda3\\lib\\site-packages\\xgboost\\core.py:587: FutureWarning: Series.base is deprecated and will be removed in a future version\n",
      "  if getattr(data, 'base', None) is not None and \\\n"
     ]
    },
    {
     "name": "stdout",
     "output_type": "stream",
     "text": [
      "Test RMSE XGBoost: 0.37557\n"
     ]
    }
   ],
   "source": [
    "xg_reg = xgb.XGBRegressor(objective ='reg:squarederror', colsample_bytree=0.8, n_estimators=250, gamma=1, random_state=0, n_jobs=-1, )\n",
    "xg_reg.fit(X_train,y_train)\n",
    "preds = xg_reg.predict(X_test)\n",
    "error = mean_squared_error(y_test, preds)**0.5\n",
    "print('Test RMSE XGBoost: %.5f' % error)"
   ]
  },
  {
   "cell_type": "markdown",
   "metadata": {},
   "source": [
    "#### De acuerdo con las optimizaciones de los hiperparámetros, el RMSE obtenido es 0.37557"
   ]
  },
  {
   "cell_type": "markdown",
   "metadata": {},
   "source": [
    "# Exercise P2.2 (50%)\n",
    "\n",
    "API of the model.\n",
    "\n",
    "URL:\n",
    "http://ec2-13-59-195-186.us-east-2.compute.amazonaws.com:5000/\n",
    "\n",
    "Github:\n",
    "https://github.com/halepz/Proyecto_2_MAAD\n"
   ]
  }
 ],
 "metadata": {
  "kernelspec": {
   "display_name": "Python 3",
   "language": "python",
   "name": "python3"
  },
  "language_info": {
   "codemirror_mode": {
    "name": "ipython",
    "version": 3
   },
   "file_extension": ".py",
   "mimetype": "text/x-python",
   "name": "python",
   "nbconvert_exporter": "python",
   "pygments_lexer": "ipython3",
   "version": "3.7.3"
  }
 },
 "nbformat": 4,
 "nbformat_minor": 4
}
